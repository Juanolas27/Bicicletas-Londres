{
 "cells": [
  {
   "cell_type": "markdown",
   "id": "d753492c-c959-4ed7-801d-a9e447611c81",
   "metadata": {},
   "source": [
    "# Bicicletas Londres"
   ]
  },
  {
   "cell_type": "markdown",
   "id": "8e16dc37-8190-473b-aea1-cbcffbe8d133",
   "metadata": {},
   "source": [
    "## Importacion"
   ]
  },
  {
   "cell_type": "code",
   "execution_count": 59,
   "id": "c980ed13-1f84-433e-9c82-196dd7a0173a",
   "metadata": {},
   "outputs": [],
   "source": [
    "import tensorflow as tf\n",
    "import numpy as np\n",
    "import matplotlib.pyplot as plt\n",
    "import matplotlib as mpl\n",
    "import csv\n",
    "from itertools import islice\n",
    "from collections import Counter\n",
    "from sklearn.preprocessing import LabelEncoder\n",
    "from geopy.geocoders import Nominatim\n",
    "from geopy.distance import geodesic\n",
    "from sklearn.model_selection import train_test_split"
   ]
  },
  {
   "cell_type": "markdown",
   "id": "3886ed1c-abe4-4407-af5c-8341a0b321cb",
   "metadata": {},
   "source": [
    "## Obtención de csv"
   ]
  },
  {
   "cell_type": "code",
   "execution_count": 2,
   "id": "dc848e03-0bb9-49d5-8dd9-28ca18812bf7",
   "metadata": {},
   "outputs": [],
   "source": [
    "csvfiler = r\"C:\\Users\\David\\PycharmProjects\\first_project\\Bicicletas\\LondonBikeJourneyAug2023.csv\""
   ]
  },
  {
   "cell_type": "markdown",
   "id": "1e6c226a-4672-459c-aed5-242d13e46fdd",
   "metadata": {},
   "source": [
    "Number,Start date,Start station number,Start station,End date,End station number,End station,Bike number,Bike model,Total duration,Total duration"
   ]
  },
  {
   "cell_type": "markdown",
   "id": "1a6be7a2-ecb1-44e4-bc9d-1dd8716e4788",
   "metadata": {},
   "source": [
    "### División de los datos deseados"
   ]
  },
  {
   "cell_type": "code",
   "execution_count": 3,
   "id": "f0883669-3afe-426b-b9f0-48295e961086",
   "metadata": {},
   "outputs": [],
   "source": [
    "start_station_categories = []\n",
    "end_station_categories = []\n",
    "total_duration_ms = []\n",
    "model_bike = []"
   ]
  },
  {
   "cell_type": "code",
   "execution_count": 4,
   "id": "f76154bd-7006-4487-8b09-1593e45a645f",
   "metadata": {},
   "outputs": [],
   "source": [
    "with open (csvfiler, newline=\"\") as csvfile:\n",
    "    reader = csv.DictReader(csvfile)\n",
    "    for row in reader:\n",
    "        start_station_categories.append(row[\"Start station\"])\n",
    "        end_station_categories.append(row[\"End station\"])\n",
    "        total_duration_ms.append(row[\"Total duration (ms)\"])\n",
    "        model_bike.append(row[\"Bike model\"])"
   ]
  },
  {
   "cell_type": "markdown",
   "id": "f0963228-fc16-42d5-9ddc-cb80c8c95b7a",
   "metadata": {},
   "source": [
    "### Creación de listas de los diferentes nombres de estaciones de start con la cantidad de usos de cada una"
   ]
  },
  {
   "cell_type": "code",
   "execution_count": 58,
   "id": "d4fbbf30-c809-48c5-ab01-c1b75ac93278",
   "metadata": {},
   "outputs": [],
   "source": [
    "label_encoder = LabelEncoder()\n",
    "lista_start_estaciones = list(Counter(start_station_categories).keys())\n",
    "start_counter = Counter(start_station_categories)\n",
    "codigo_start = label_encoder.fit(lista_start_estaciones)\n",
    "codigo_start = label_encoder.transform(lista_start_estaciones)"
   ]
  },
  {
   "cell_type": "markdown",
   "id": "65bae93c-1def-4499-8c96-942b3d07a082",
   "metadata": {},
   "source": [
    "### Creación de listas de los diferentes nombres de estaciones de end con la cantidad de usos de cada una"
   ]
  },
  {
   "cell_type": "code",
   "execution_count": 6,
   "id": "b6ec64b6-7a8c-4032-8a8c-d9176a3d9adb",
   "metadata": {},
   "outputs": [],
   "source": [
    "label_encoder = LabelEncoder()\n",
    "end_counter = Counter(end_station_categories)\n",
    "lista_end_estaciones = list(Counter(end_station_categories).keys())\n",
    "codigo_end = label_encoder.fit(lista_end_estaciones)\n",
    "codigo_end = label_encoder.transform(lista_end_estaciones)"
   ]
  },
  {
   "cell_type": "markdown",
   "id": "cf655808-ba93-405c-91aa-7bdeb8a9dd22",
   "metadata": {},
   "source": [
    "### Creación de listas de los diferentes nombres de bicicletas con la cantidad de usos de cada una"
   ]
  },
  {
   "cell_type": "code",
   "execution_count": 7,
   "id": "bcb13872-f7ba-4c4b-9408-5dd9c62716e4",
   "metadata": {},
   "outputs": [
    {
     "name": "stdout",
     "output_type": "stream",
     "text": [
      "Counter({'CLASSIC': 716639, 'PBSC_EBIKE': 59888})\n"
     ]
    }
   ],
   "source": [
    "label_encoder = LabelEncoder()\n",
    "bike_counter = Counter(model_bike)\n",
    "print(bike_counter)\n",
    "lista_bikes = list(Counter(model_bike).keys())\n",
    "codigo_bike = label_encoder.fit(lista_bikes)\n",
    "codigo_bike = label_encoder.transform(lista_bikes)"
   ]
  },
  {
   "cell_type": "markdown",
   "id": "322bd75e-11bb-42f5-9269-d0127cc6fe09",
   "metadata": {},
   "source": [
    "## Iniciación geolocalizador"
   ]
  },
  {
   "cell_type": "code",
   "execution_count": 183,
   "id": "f6861a38-aa16-464c-b4f4-f240768e66ae",
   "metadata": {},
   "outputs": [],
   "source": [
    "# Función para obtener las coordenadas geográficas de una estación\n",
    "geolocalizador = Nominatim(user_agent=\"registros_bicicletas_londres\")\n",
    "def obtener_coordenadas(nombre_estacion):\n",
    "    location = geolocalizador.geocode(nombre_estacion)\n",
    "    return (location.latitude, location.longitude) if location else None\n",
    "\n",
    "# Calcular la distancia entre cada par de estaciones\n",
    "def calcular_distancia(coord1, coord2):\n",
    "    if coord1 and coord2:\n",
    "        return geodesic(coord1, coord2).kilometers\n",
    "    else:\n",
    "        return None"
   ]
  },
  {
   "cell_type": "markdown",
   "id": "e6285404-85b5-45b2-86ef-a0322e46d503",
   "metadata": {},
   "source": [
    "## Creación de gráficos de uso start"
   ]
  },
  {
   "cell_type": "code",
   "execution_count": 209,
   "id": "d7b2aab9-f2dd-48f8-a27c-fb7307a67f4a",
   "metadata": {},
   "outputs": [],
   "source": [
    "lista_lugares = [\"Abadía de Westminster\", \"Big Ben\", \"London Eye\", \"Tower Bridge\", \"Hyde Park\", \"National Gallery\", \"Palacio de Buckingham\", \"Covent Garden\"]\n",
    "lista_lugares_coordenadas = list(map(obtener_coordenadas, lista_lugares))"
   ]
  },
  {
   "cell_type": "code",
   "execution_count": 189,
   "id": "fd1840c0-c700-49ca-837e-fd115c0788b5",
   "metadata": {},
   "outputs": [
    {
     "name": "stdout",
     "output_type": "stream",
     "text": [
      "1.0959117836406396\n"
     ]
    }
   ],
   "source": [
    "print(calcular_distancia(lista_lugares_coordenadas[0], lista_lugares_coordenadas[6]))"
   ]
  },
  {
   "cell_type": "code",
   "execution_count": 210,
   "id": "caaf6328-27b3-4ad5-9f86-34e9214b4c88",
   "metadata": {
    "jupyter": {
     "source_hidden": true
    }
   },
   "outputs": [],
   "source": [
    "def lugar_mas_cercano(estacion, lugares):\n",
    "    if estacion and lugares:\n",
    "        lista_cercania = []\n",
    "        for i in lugares:\n",
    "            lista_cercania.append(calcular_distancia(obtener_coordenadas(estacion), i))\n",
    "        return (min(lista_cercania), lista_cercania.index(min(lista_cercania)))\n",
    "    else:\n",
    "        return None\n",
    "datos = lugar_mas_cercano(list(start_counter.keys())[3], lista_lugares_coordenadas)"
   ]
  },
  {
   "cell_type": "code",
   "execution_count": null,
   "id": "c5c8afe2-e265-4ccb-9ce1-9b4685205d77",
   "metadata": {
    "jupyter": {
     "source_hidden": true
    }
   },
   "outputs": [],
   "source": [
    "# Define los valores para el gráfico polar\n",
    "# Define los límites para cada sección\n",
    "theta_limits = [0, np.pi/4, np.pi/2, 3*np.pi/4, np.pi, 5*np.pi/4, 3*np.pi/2, 7*np.pi/4, 2*np.pi]\n",
    "N = len(lista_start_estaciones)\n",
    "grupo_perteneciente = []\n",
    "for i in lista_start_estaciones:\n",
    "    try:\n",
    "        grupo_perteneciente.append(lugar_mas_cercano(i, lista_lugares_coordenadas))\n",
    "    except:\n",
    "        pass\n",
    "r = 2 * np.array(list(start_counter.values()))\n",
    "theta = tetha_limits[grupo_perteneciente[1]]\n",
    "area = 200 * r**2\n",
    "\n",
    "# Define los colores basados en los ángulos\n",
    "colors = theta\n",
    "\n",
    "# Crea el gráfico polar\n",
    "fig = plt.figure()\n",
    "ax = fig.add_subplot(projection='polar')\n",
    "\n",
    "\n",
    "\n",
    "# Define los radios para cada sección\n",
    "r_limits = [0.1, 0.3, 0.5, 0.7, 0.9]\n",
    "\n",
    "# Itera sobre cada punto y ajusta su posición relativa dentro de cada sección\n",
    "for i in range(N):\n",
    "    # Encuentra la sección correspondiente\n",
    "    section = 0\n",
    "    while theta[i] > theta_limits[section]:\n",
    "        section += 1\n",
    "    section -= 1\n",
    "\n",
    "    # Ajusta el radio para que esté dentro de la sección\n",
    "    r[i] = r_limits[section] + (r_limits[section + 1] - r_limits[section]) * (r[i] - r.min()) / (r.max() - r.min())\n",
    "\n",
    "# Grafica los puntos ajustados\n",
    "c = ax.scatter(theta, r, c=colors, s=area, cmap='hsv', alpha=0.75)\n",
    "\n",
    "plt.show()"
   ]
  },
  {
   "cell_type": "code",
   "execution_count": null,
   "id": "bba92132-93da-4887-b86a-1478a28e22a7",
   "metadata": {},
   "outputs": [],
   "source": [
    "fig, ax = plt.subplots(figsize=(300, 6), layout='constrained')\n",
    "ax.bar(keys, list(values))"
   ]
  },
  {
   "cell_type": "markdown",
   "id": "46b5accd-d394-4df8-b3f6-7e8fdd0553c0",
   "metadata": {},
   "source": [
    "## **Conversion de datos a numéricos**"
   ]
  },
  {
   "cell_type": "code",
   "execution_count": 45,
   "id": "55944176-0dd8-4271-8a9b-9caa7ba2e001",
   "metadata": {},
   "outputs": [],
   "source": [
    "lista_buena_start = []\n",
    "contador = 0\n",
    "for i in start_counter.values():\n",
    "    for x in range(i):\n",
    "        lista_buena_start.append(codigo_start[contador])\n",
    "    contador += 1\n",
    "        "
   ]
  },
  {
   "cell_type": "code",
   "execution_count": 46,
   "id": "ade1e884-3fe0-4207-94b8-b5f743338d4e",
   "metadata": {},
   "outputs": [],
   "source": [
    "lista_buena_end = []\n",
    "contador = 0\n",
    "for i in end_counter.values():\n",
    "    for x in range(i):\n",
    "        lista_buena_end.append(codigo_end[contador])\n",
    "    contador += 1"
   ]
  },
  {
   "cell_type": "code",
   "execution_count": 47,
   "id": "538e68c4-0218-4460-82ad-b32a0c4f6011",
   "metadata": {},
   "outputs": [],
   "source": [
    "lista_buena_bike = []\n",
    "contador = 0\n",
    "for i in bike_counter.values():\n",
    "    for x in range(i):\n",
    "        lista_buena_bike.append(codigo_bike[contador])\n",
    "    contador += 1"
   ]
  },
  {
   "cell_type": "code",
   "execution_count": 50,
   "id": "38b18bc3-0257-45ae-b1fb-17d2e1eb45d3",
   "metadata": {},
   "outputs": [
    {
     "name": "stdout",
     "output_type": "stream",
     "text": [
      "776527 776527 776527\n"
     ]
    }
   ],
   "source": [
    "print(len(lista_buena_start), len(lista_buena_end), len(lista_buena_bike))"
   ]
  },
  {
   "cell_type": "code",
   "execution_count": 51,
   "id": "dba27602-5f19-41c2-88ca-6bdf0a3e216f",
   "metadata": {},
   "outputs": [],
   "source": [
    "np_lista_buena_start = np.array(lista_buena_start)\n",
    "np_lista_buena_end = np.array(lista_buena_end)\n",
    "np_lista_buena_bike = np.array(lista_buena_bike)"
   ]
  },
  {
   "cell_type": "code",
   "execution_count": 52,
   "id": "536ef9d0-83a0-4dde-b46a-51daeae7ccea",
   "metadata": {},
   "outputs": [
    {
     "name": "stdout",
     "output_type": "stream",
     "text": [
      "(776527,) (776527,) (776527,)\n"
     ]
    }
   ],
   "source": [
    "print(np_lista_buena_start.shape, np_lista_buena_end.shape, np_lista_buena_bike.shape)"
   ]
  },
  {
   "cell_type": "code",
   "execution_count": 168,
   "id": "51dc5758-81ce-4d26-8781-c476f7594979",
   "metadata": {},
   "outputs": [],
   "source": [
    "X = np.column_stack((np_lista_buena_start, np_lista_buena_end, np_lista_buena_bike))"
   ]
  },
  {
   "cell_type": "code",
   "execution_count": 136,
   "id": "382d6a67-bf30-4b41-b943-46f9983dd27d",
   "metadata": {},
   "outputs": [],
   "source": [
    "X = X"
   ]
  },
  {
   "cell_type": "code",
   "execution_count": 169,
   "id": "8e6abcff-c792-4fce-b610-6eed4c7be68c",
   "metadata": {},
   "outputs": [],
   "source": [
    "total_duration_ms = np.array(total_duration_ms, dtype=\"float32\")\n",
    "total_duration_ms= total_duration_ms / 1000"
   ]
  },
  {
   "cell_type": "code",
   "execution_count": 170,
   "id": "c9b60b8f-a0a7-44c8-9175-b45c4b65501a",
   "metadata": {},
   "outputs": [],
   "source": [
    "x_train, x_test, y_train, y_test = train_test_split(X, total_duration_ms, test_size=0.2, random_state=42)"
   ]
  },
  {
   "cell_type": "code",
   "execution_count": 171,
   "id": "1f858396-1c1a-4a6b-b7db-fc84b425f019",
   "metadata": {},
   "outputs": [
    {
     "name": "stdout",
     "output_type": "stream",
     "text": [
      "<class 'numpy.ndarray'>\n",
      "<class 'numpy.ndarray'>\n",
      "(155306, 3)\n"
     ]
    }
   ],
   "source": [
    "x_train = np.array(x_train, dtype=\"float32\")\n",
    "x_test = np.array(x_test, dtype=\"float32\")\n",
    "print (type(x_train))\n",
    "print(type(y_train))\n",
    "print(x_test.shape)"
   ]
  },
  {
   "cell_type": "code",
   "execution_count": 172,
   "id": "212c719b-fd83-4676-9e20-04ba471eb6a4",
   "metadata": {},
   "outputs": [],
   "source": [
    "model_duration = tf.keras.Sequential([\n",
    "    tf.keras.layers.Flatten(input_shape= (3,)),\n",
    "    tf.keras.layers.Dense(32, activation = \"relu\"),\n",
    "    tf.keras.layers.Dense(64, activation = \"relu\"),\n",
    "    tf.keras.layers.Dense(128, activation = \"relu\"),\n",
    "    tf.keras.layers.Dense(1)\n",
    "])"
   ]
  },
  {
   "cell_type": "code",
   "execution_count": 173,
   "id": "6de8cb10-5d89-4d31-b30e-0d06450263ab",
   "metadata": {},
   "outputs": [],
   "source": [
    "model_duration.compile(\n",
    "    optimizer = \"adam\",\n",
    "    loss='mean_squared_error',\n",
    "    metrics=['mean_squared_error', 'mean_absolute_error']\n",
    ")"
   ]
  },
  {
   "cell_type": "code",
   "execution_count": 174,
   "id": "93154543-5089-492d-b42f-ce10c45d62fb",
   "metadata": {},
   "outputs": [
    {
     "name": "stdout",
     "output_type": "stream",
     "text": [
      "776527\n"
     ]
    }
   ],
   "source": [
    "print(len(total_duration_ms))"
   ]
  },
  {
   "cell_type": "code",
   "execution_count": 175,
   "id": "20618a82-6821-43d3-92fd-ca128ef3c7f6",
   "metadata": {},
   "outputs": [
    {
     "name": "stdout",
     "output_type": "stream",
     "text": [
      "Epoch 1/10\n",
      "\u001b[1m19414/19414\u001b[0m \u001b[32m━━━━━━━━━━━━━━━━━━━━\u001b[0m\u001b[37m\u001b[0m \u001b[1m31s\u001b[0m 2ms/step - loss: 1.7578 - mean_absolute_error: 0.1956 - mean_squared_error: 1.7578\n",
      "Epoch 2/10\n",
      "\u001b[1m19414/19414\u001b[0m \u001b[32m━━━━━━━━━━━━━━━━━━━━\u001b[0m\u001b[37m\u001b[0m \u001b[1m31s\u001b[0m 2ms/step - loss: 4.3404e-05 - mean_absolute_error: 0.0028 - mean_squared_error: 4.3404e-05\n",
      "Epoch 3/10\n",
      "\u001b[1m19414/19414\u001b[0m \u001b[32m━━━━━━━━━━━━━━━━━━━━\u001b[0m\u001b[37m\u001b[0m \u001b[1m32s\u001b[0m 2ms/step - loss: 1.0525e-30 - mean_absolute_error: 1.1624e-16 - mean_squared_error: 1.0525e-30\n",
      "Epoch 4/10\n",
      "\u001b[1m19414/19414\u001b[0m \u001b[32m━━━━━━━━━━━━━━━━━━━━\u001b[0m\u001b[37m\u001b[0m \u001b[1m31s\u001b[0m 2ms/step - loss: 7.1349e-08 - mean_absolute_error: 1.5359e-05 - mean_squared_error: 7.1349e-08\n",
      "Epoch 5/10\n",
      "\u001b[1m19414/19414\u001b[0m \u001b[32m━━━━━━━━━━━━━━━━━━━━\u001b[0m\u001b[37m\u001b[0m \u001b[1m31s\u001b[0m 2ms/step - loss: 1.1974e-30 - mean_absolute_error: 1.1783e-16 - mean_squared_error: 1.1974e-30\n",
      "Epoch 6/10\n",
      "\u001b[1m19414/19414\u001b[0m \u001b[32m━━━━━━━━━━━━━━━━━━━━\u001b[0m\u001b[37m\u001b[0m \u001b[1m31s\u001b[0m 2ms/step - loss: 1.0357e-30 - mean_absolute_error: 1.1551e-16 - mean_squared_error: 1.0357e-30\n",
      "Epoch 7/10\n",
      "\u001b[1m19414/19414\u001b[0m \u001b[32m━━━━━━━━━━━━━━━━━━━━\u001b[0m\u001b[37m\u001b[0m \u001b[1m31s\u001b[0m 2ms/step - loss: 1.0738e-30 - mean_absolute_error: 1.1670e-16 - mean_squared_error: 1.0738e-30\n",
      "Epoch 8/10\n",
      "\u001b[1m19414/19414\u001b[0m \u001b[32m━━━━━━━━━━━━━━━━━━━━\u001b[0m\u001b[37m\u001b[0m \u001b[1m32s\u001b[0m 2ms/step - loss: 1.4795e-30 - mean_absolute_error: 1.1841e-16 - mean_squared_error: 1.4795e-30\n",
      "Epoch 9/10\n",
      "\u001b[1m19414/19414\u001b[0m \u001b[32m━━━━━━━━━━━━━━━━━━━━\u001b[0m\u001b[37m\u001b[0m \u001b[1m31s\u001b[0m 2ms/step - loss: 1.2305e-30 - mean_absolute_error: 1.1742e-16 - mean_squared_error: 1.2305e-30\n",
      "Epoch 10/10\n",
      "\u001b[1m19414/19414\u001b[0m \u001b[32m━━━━━━━━━━━━━━━━━━━━\u001b[0m\u001b[37m\u001b[0m \u001b[1m33s\u001b[0m 2ms/step - loss: 1.3420e-30 - mean_absolute_error: 1.1721e-16 - mean_squared_error: 1.3420e-30\n"
     ]
    },
    {
     "data": {
      "text/plain": [
       "<keras.src.callbacks.history.History at 0x128be716600>"
      ]
     },
     "execution_count": 175,
     "metadata": {},
     "output_type": "execute_result"
    }
   ],
   "source": [
    "model_duration.fit(x_train, y_train, verbose=1, epochs= 10)"
   ]
  },
  {
   "cell_type": "code",
   "execution_count": 176,
   "id": "65cfc138-90d4-41bf-a8d8-ec4612a01aaa",
   "metadata": {},
   "outputs": [
    {
     "name": "stdout",
     "output_type": "stream",
     "text": [
      "\u001b[1m4854/4854\u001b[0m \u001b[32m━━━━━━━━━━━━━━━━━━━━\u001b[0m\u001b[37m\u001b[0m \u001b[1m5s\u001b[0m 1ms/step\n",
      "\u001b[1m4854/4854\u001b[0m \u001b[32m━━━━━━━━━━━━━━━━━━━━\u001b[0m\u001b[37m\u001b[0m \u001b[1m6s\u001b[0m 1ms/step - loss: 1.8567e-30 - mean_absolute_error: 1.2088e-16 - mean_squared_error: 1.8567e-30\n"
     ]
    },
    {
     "data": {
      "text/plain": [
       "[3.765697093254679e-30, 3.765697093254679e-30, 1.2668628423274242e-16]"
      ]
     },
     "execution_count": 176,
     "metadata": {},
     "output_type": "execute_result"
    }
   ],
   "source": [
    "prediccion = model_duration.predict(x_test)\n",
    "model_duration.evaluate(x_test, y_test)"
   ]
  },
  {
   "cell_type": "code",
   "execution_count": 178,
   "id": "f3872a2c-7949-43a8-9966-e97e5db6801c",
   "metadata": {},
   "outputs": [
    {
     "name": "stdout",
     "output_type": "stream",
     "text": [
      "[[0.]\n",
      " [0.]\n",
      " [0.]\n",
      " [0.]\n",
      " [0.]\n",
      " [0.]\n",
      " [0.]\n",
      " [0.]\n",
      " [0.]\n",
      " [0.]\n",
      " [0.]\n",
      " [0.]\n",
      " [0.]\n",
      " [0.]\n",
      " [0.]\n",
      " [0.]\n",
      " [0.]\n",
      " [0.]\n",
      " [0.]\n",
      " [0.]]\n",
      "[1.60685955e-17 6.62996974e-17 2.07212201e-17 1.34940276e-16\n",
      " 1.99591906e-16 1.17645068e-16 1.01393516e-16 2.40915129e-17\n",
      " 9.18736867e-17 9.15912872e-17 2.77238417e-17 9.76916715e-17\n",
      " 1.65333023e-16 2.47946760e-17 3.60797059e-17 8.41858039e-17\n",
      " 4.93203694e-17 8.05871116e-17 4.74037820e-17 1.25504713e-16]\n"
     ]
    }
   ],
   "source": [
    "print(prediccion[0:20])\n",
    "print(y_test[0:20])"
   ]
  },
  {
   "cell_type": "code",
   "execution_count": null,
   "id": "a35c71ae-3caa-4790-afca-09cd6b59f8a8",
   "metadata": {},
   "outputs": [],
   "source": []
  }
 ],
 "metadata": {
  "kernelspec": {
   "display_name": "Python 3 (ipykernel)",
   "language": "python",
   "name": "python3"
  },
  "language_info": {
   "codemirror_mode": {
    "name": "ipython",
    "version": 3
   },
   "file_extension": ".py",
   "mimetype": "text/x-python",
   "name": "python",
   "nbconvert_exporter": "python",
   "pygments_lexer": "ipython3",
   "version": "3.12.3"
  }
 },
 "nbformat": 4,
 "nbformat_minor": 5
}
